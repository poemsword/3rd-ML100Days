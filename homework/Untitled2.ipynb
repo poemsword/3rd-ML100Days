{
 "cells": [
  {
   "cell_type": "code",
   "execution_count": 18,
   "metadata": {},
   "outputs": [
    {
     "name": "stdout",
     "output_type": "stream",
     "text": [
      "   month     money\n",
      "0    1.5   67500.0\n",
      "1    2.5  112500.0\n",
      "2    3.5  157500.0\n",
      "3    4.5  202500.0\n",
      "4    5.5  247500.0\n"
     ]
    }
   ],
   "source": [
    "import pandas as pd\n",
    "s = []\n",
    "for i in range(1, 6):\n",
    "    i+=0.5\n",
    "    s.append(i)\n",
    "\n",
    "# k = s*45000\n",
    "bonus = pd.DataFrame({\"month\":s})\n",
    "bonus[\"money\"] = bonus[\"month\"]*45000\n",
    "print(bonus)\n",
    "\n",
    "\n",
    "# print(s)\n",
    "# s = range(1.5, 5)"
   ]
  }
 ],
 "metadata": {
  "kernelspec": {
   "display_name": "Python 3",
   "language": "python",
   "name": "python3"
  },
  "language_info": {
   "codemirror_mode": {
    "name": "ipython",
    "version": 3
   },
   "file_extension": ".py",
   "mimetype": "text/x-python",
   "name": "python",
   "nbconvert_exporter": "python",
   "pygments_lexer": "ipython3",
   "version": "3.7.1"
  }
 },
 "nbformat": 4,
 "nbformat_minor": 2
}
