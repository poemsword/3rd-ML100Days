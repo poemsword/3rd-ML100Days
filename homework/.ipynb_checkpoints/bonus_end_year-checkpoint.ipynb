{
 "cells": [
  {
   "cell_type": "code",
   "execution_count": 21,
   "metadata": {},
   "outputs": [
    {
     "name": "stdout",
     "output_type": "stream",
     "text": [
      "   month     money\n",
      "0    2.0   90000.0\n",
      "1    2.5  112500.0\n",
      "2    3.0  135000.0\n",
      "3    3.5  157500.0\n",
      "4    4.0  180000.0\n",
      "5    4.5  202500.0\n",
      "6    5.0  225000.0\n",
      "7    5.5  247500.0\n",
      "8    6.0  270000.0\n"
     ]
    }
   ],
   "source": [
    "import pandas as pd\n",
    "s = []\n",
    "k = 1.5\n",
    "for i in range(1, 10):\n",
    "    k+=0.5\n",
    "    s.append(k)\n",
    "\n",
    "# k = s*45000\n",
    "bonus = pd.DataFrame({\"month\":s})\n",
    "bonus[\"money\"] = bonus[\"month\"]*45000\n",
    "print(bonus)\n",
    "\n",
    "\n",
    "# print(s)\n",
    "# s = range(1.5, 5)"
   ]
  }
 ],
 "metadata": {
  "kernelspec": {
   "display_name": "Python 3",
   "language": "python",
   "name": "python3"
  },
  "language_info": {
   "codemirror_mode": {
    "name": "ipython",
    "version": 3
   },
   "file_extension": ".py",
   "mimetype": "text/x-python",
   "name": "python",
   "nbconvert_exporter": "python",
   "pygments_lexer": "ipython3",
   "version": "3.7.1"
  }
 },
 "nbformat": 4,
 "nbformat_minor": 2
}
